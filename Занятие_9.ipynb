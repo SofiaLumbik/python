{
  "nbformat": 4,
  "nbformat_minor": 0,
  "metadata": {
    "colab": {
      "provenance": [],
      "authorship_tag": "ABX9TyPxsoO+iOLGLcrwxXb8G0t7",
      "include_colab_link": true
    },
    "kernelspec": {
      "name": "python3",
      "display_name": "Python 3"
    },
    "language_info": {
      "name": "python"
    }
  },
  "cells": [
    {
      "cell_type": "markdown",
      "metadata": {
        "id": "view-in-github",
        "colab_type": "text"
      },
      "source": [
        "<a href=\"https://colab.research.google.com/github/SofiaLumbik/python/blob/master/%D0%97%D0%B0%D0%BD%D1%8F%D1%82%D0%B8%D0%B5_9.ipynb\" target=\"_parent\"><img src=\"https://colab.research.google.com/assets/colab-badge.svg\" alt=\"Open In Colab\"/></a>"
      ]
    },
    {
      "cell_type": "code",
      "execution_count": null,
      "metadata": {
        "colab": {
          "base_uri": "https://localhost:8080/"
        },
        "id": "1if8t4Ir66Nf",
        "outputId": "61e2077e-6349-4272-dbb0-3cbd82d12b0c"
      },
      "outputs": [
        {
          "output_type": "stream",
          "name": "stdout",
          "text": [
            "6\n",
            " \n",
            "moon   луна\n",
            "question   вопрос\n",
            "weather   погода\n",
            "sunrise   рассвет\n",
            "lion   лев\n",
            "purple   фиолетовый\n",
            " \n",
            "moon   луна\n",
            "question   вопрос\n",
            "weather   погода\n",
            "sunrise   рассвет\n",
            "lion   лев\n",
            "purple   фиолетовый\n",
            "black   черный\n",
            "white   белый\n",
            " \n",
            "moon   луна\n",
            "question   вопрос\n",
            "weather   погода\n",
            "sunrise   рассвет\n",
            "lion   лев\n",
            "purple   фиолетовый\n",
            "black   черный\n",
            " \n",
            "луна   moon\n",
            "вопрос   question\n",
            "погода   weather\n",
            "рассвет   sunrise\n",
            "лев   lion\n",
            "фиолетовый   purple\n",
            "черный   black\n"
          ]
        }
      ],
      "source": [
        "#@title Задание 1\n",
        "dictionary={}\n",
        "dictionary={'moon':'луна','question':'вопрос', 'weather':'погода','sunrise':'рассвет','lion':'лев', 'purple':'фиолетовый'}\n",
        "print(len(dictionary))\n",
        "print(' ')\n",
        "for k,i in dictionary.items():\n",
        "  print(k,' ',i)\n",
        "print(' ')\n",
        "dictionary['black']='черный'\n",
        "dictionary['white']='белый'\n",
        "for k,i in dictionary.items():\n",
        "  print(k,' ',i)\n",
        "print(' ')\n",
        "dictionary.pop('white','белый')\n",
        "for k,i in dictionary.items():\n",
        "  print(k,' ',i)\n",
        "print(' ')\n",
        "inverse_dictionary={}\n",
        "for k,i in dictionary.items():\n",
        "    inverse_dictionary[i]=k\n",
        "for k,i in inverse_dictionary.items():\n",
        "  print(k,' ',i)"
      ]
    },
    {
      "cell_type": "code",
      "source": [
        "#@title Задание 2\n",
        "def my_power(a, n):\n",
        "    if (n == 1):\n",
        "        return (a)\n",
        "    if (n != 1):\n",
        "        return (a * my_power(a, n - 1))\n",
        "a = int(input(\"Введите число: \"))\n",
        "n = int(input(\"Введите его степень: \"))\n",
        "print(\"Результат:\", my_power(a, n))"
      ],
      "metadata": {
        "colab": {
          "base_uri": "https://localhost:8080/"
        },
        "id": "0LfX_N5lf55g",
        "outputId": "5719e5f8-8c55-400d-c935-9161b2e0ca5d"
      },
      "execution_count": null,
      "outputs": [
        {
          "output_type": "stream",
          "name": "stdout",
          "text": [
            "Введите число: 5\n",
            "Введите его степень: 3\n",
            "Результат: 125\n"
          ]
        }
      ]
    },
    {
      "cell_type": "code",
      "source": [
        "#@title Задание 3\n",
        "def stroka(s):\n",
        "    if len(s) == 1 or len(s) == 2:\n",
        "        return s\n",
        "    return s[0] + '(' + stroka(s[1:-1]) + ')' + s[-1]\n",
        "print(stroka(input()))"
      ],
      "metadata": {
        "colab": {
          "base_uri": "https://localhost:8080/"
        },
        "id": "Wcs0kNASgIo9",
        "outputId": "43e82a54-fc92-4eb9-9076-d02331ec76b7"
      },
      "execution_count": null,
      "outputs": [
        {
          "output_type": "stream",
          "name": "stdout",
          "text": [
            "sunshine\n",
            "s(u(n(sh)i)n)e\n"
          ]
        }
      ]
    },
    {
      "cell_type": "code",
      "source": [
        "#@title Задание 4\n",
        "from itertools import permutations\n",
        "N=int(input())\n",
        "alphabet = \"\"\n",
        "for i in range(1, N+1):\n",
        "  alphabet += str(i)\n",
        "for i in permutations(alphabet, N):\n",
        "  print(''.join(i))"
      ],
      "metadata": {
        "colab": {
          "base_uri": "https://localhost:8080/"
        },
        "id": "A0fnBptJgkn7",
        "outputId": "3db7f563-ce73-4067-c5c3-3cf3ebc23ccb"
      },
      "execution_count": null,
      "outputs": [
        {
          "output_type": "stream",
          "name": "stdout",
          "text": [
            "5\n",
            "12345\n",
            "12354\n",
            "12435\n",
            "12453\n",
            "12534\n",
            "12543\n",
            "13245\n",
            "13254\n",
            "13425\n",
            "13452\n",
            "13524\n",
            "13542\n",
            "14235\n",
            "14253\n",
            "14325\n",
            "14352\n",
            "14523\n",
            "14532\n",
            "15234\n",
            "15243\n",
            "15324\n",
            "15342\n",
            "15423\n",
            "15432\n",
            "21345\n",
            "21354\n",
            "21435\n",
            "21453\n",
            "21534\n",
            "21543\n",
            "23145\n",
            "23154\n",
            "23415\n",
            "23451\n",
            "23514\n",
            "23541\n",
            "24135\n",
            "24153\n",
            "24315\n",
            "24351\n",
            "24513\n",
            "24531\n",
            "25134\n",
            "25143\n",
            "25314\n",
            "25341\n",
            "25413\n",
            "25431\n",
            "31245\n",
            "31254\n",
            "31425\n",
            "31452\n",
            "31524\n",
            "31542\n",
            "32145\n",
            "32154\n",
            "32415\n",
            "32451\n",
            "32514\n",
            "32541\n",
            "34125\n",
            "34152\n",
            "34215\n",
            "34251\n",
            "34512\n",
            "34521\n",
            "35124\n",
            "35142\n",
            "35214\n",
            "35241\n",
            "35412\n",
            "35421\n",
            "41235\n",
            "41253\n",
            "41325\n",
            "41352\n",
            "41523\n",
            "41532\n",
            "42135\n",
            "42153\n",
            "42315\n",
            "42351\n",
            "42513\n",
            "42531\n",
            "43125\n",
            "43152\n",
            "43215\n",
            "43251\n",
            "43512\n",
            "43521\n",
            "45123\n",
            "45132\n",
            "45213\n",
            "45231\n",
            "45312\n",
            "45321\n",
            "51234\n",
            "51243\n",
            "51324\n",
            "51342\n",
            "51423\n",
            "51432\n",
            "52134\n",
            "52143\n",
            "52314\n",
            "52341\n",
            "52413\n",
            "52431\n",
            "53124\n",
            "53142\n",
            "53214\n",
            "53241\n",
            "53412\n",
            "53421\n",
            "54123\n",
            "54132\n",
            "54213\n",
            "54231\n",
            "54312\n",
            "54321\n"
          ]
        }
      ]
    }
  ]
}